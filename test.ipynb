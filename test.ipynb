{
 "cells": [
  {
   "cell_type": "code",
   "execution_count": 120,
   "metadata": {},
   "outputs": [],
   "source": [
    "\n",
    "import yfinance as yf\n",
    "import pandas as pd\n",
    "import numpy as np\n",
    "import logging\n",
    "import alpaca_trade_api as tradeapi\n",
    "from datetime import datetime\n"
   ]
  },
  {
   "cell_type": "code",
   "execution_count": 121,
   "metadata": {},
   "outputs": [
    {
     "name": "stderr",
     "output_type": "stream",
     "text": [
      "[*********************100%***********************]  1 of 1 completed"
     ]
    },
    {
     "name": "stderr",
     "output_type": "stream",
     "text": [
      "\n"
     ]
    },
    {
     "data": {
      "text/plain": [
       "Account({   'account_blocked': False,\n",
       "    'account_number': 'PA3G9A6SI7R4',\n",
       "    'accrued_fees': '0',\n",
       "    'admin_configurations': {},\n",
       "    'balance_asof': '2024-12-30',\n",
       "    'bod_dtbp': '0',\n",
       "    'buying_power': '200000',\n",
       "    'cash': '100000',\n",
       "    'created_at': '2024-12-19T12:25:35.726188Z',\n",
       "    'crypto_status': 'ACTIVE',\n",
       "    'crypto_tier': 1,\n",
       "    'currency': 'USD',\n",
       "    'daytrade_count': 0,\n",
       "    'daytrading_buying_power': '0',\n",
       "    'effective_buying_power': '200000',\n",
       "    'equity': '100000',\n",
       "    'id': 'cb6a9b69-d681-4cdf-acab-97f45727fa00',\n",
       "    'initial_margin': '0',\n",
       "    'intraday_adjustments': '0',\n",
       "    'last_equity': '100000',\n",
       "    'last_maintenance_margin': '0',\n",
       "    'long_market_value': '0',\n",
       "    'maintenance_margin': '0',\n",
       "    'multiplier': '2',\n",
       "    'non_marginable_buying_power': '100000',\n",
       "    'options_approved_level': 2,\n",
       "    'options_buying_power': '100000',\n",
       "    'options_trading_level': 2,\n",
       "    'pattern_day_trader': False,\n",
       "    'pending_reg_taf_fees': '0',\n",
       "    'portfolio_value': '100000',\n",
       "    'position_market_value': '0',\n",
       "    'regt_buying_power': '200000',\n",
       "    'short_market_value': '0',\n",
       "    'shorting_enabled': True,\n",
       "    'sma': '100000',\n",
       "    'status': 'ACTIVE',\n",
       "    'trade_suspended_by_user': False,\n",
       "    'trading_blocked': False,\n",
       "    'transfers_blocked': False,\n",
       "    'user_configurations': None})"
      ]
     },
     "execution_count": 121,
     "metadata": {},
     "output_type": "execute_result"
    }
   ],
   "source": [
    "#If you want to trade on paper trading follow this additional step\n",
    "\n",
    "API_KEY = 'PKUNA5TMMMBFZUM1BHLV'\n",
    "SECRET_KEY = 'tKJaiBcC17Daq1WbjH2jZwKJ7w7QsLnnLASo24d5'\n",
    "BASE_URL = 'https://paper-api.alpaca.markets'\n",
    "\n",
    "# Create an instance of the Alpaca API\n",
    "api = tradeapi.REST(API_KEY, SECRET_KEY, BASE_URL, api_version='v2')\n",
    "\n",
    "# Download historical data\n",
    "data = yf.download(\"EURJPY=X\", start=\"2024-01-01\", end=\"2024-12-01\")\n",
    "api.get_account()"
   ]
  },
  {
   "cell_type": "code",
   "execution_count": 122,
   "metadata": {},
   "outputs": [],
   "source": [
    "###\n",
    "def calculate_indicators(data):\n",
    "    # Exponential Moving Averages\n",
    "    data['EMA_12'] = data['Close'].ewm(span=12, adjust=False).mean()\n",
    "    data['EMA_26'] = data['Close'].ewm(span=26, adjust=False).mean()\n",
    "    # data['EMA_12'] = data['Close'].ewm(span=15, adjust=False).mean()\n",
    "    # data['EMA_26'] = data['Close'].ewm(span=50, adjust=False).mean()\n",
    "    # Relative Strength Index\n",
    "    delta = data['Close'].diff()\n",
    "    # gain = (delta.where(delta > 0, 0)).rolling(window=14).mean()\n",
    "    # loss = (-delta.where(delta < 0, 0)).rolling(window=14).mean()\n",
    "    gain = (delta.where(delta > 0, 0)).rolling(window=14).mean()\n",
    "    loss = (-delta.where(delta < 0, 0)).rolling(window=14).mean()\n",
    "    rs = gain / loss\n",
    "    data['RSI'] = 100 - (100 / (1 + rs))\n",
    "    return data\n",
    "\n",
    "data = calculate_indicators(data)"
   ]
  },
  {
   "cell_type": "code",
   "execution_count": 124,
   "metadata": {},
   "outputs": [],
   "source": [
    "def generate_signals(data):\n",
    "    # Buy and Sell signals based on EMA and RSI\n",
    "    pd.set_option('future.no_silent_downcasting', True)\n",
    "    data['Signal'] = 0\n",
    "    buy_signal = (data['EMA_12'] > data['EMA_26']) & (data['RSI'] < 30)\n",
    "    sell_signal = (data['EMA_12'] < data['EMA_26']) & (data['RSI'] > 70)\n",
    "    data.loc[buy_signal, 'Signal'] = 1\n",
    "    data.loc[sell_signal, 'Signal'] = -1\n",
    "    data['Position'] = data['Signal'].replace(to_replace=0, value=None).ffill()\n",
    "    data['Signal'] = data['Signal'].fillna(0).astype(int)\n",
    "\n",
    "    return data"
   ]
  },
  {
   "cell_type": "code",
   "execution_count": 127,
   "metadata": {},
   "outputs": [],
   "source": [
    "generate_signals(data)\n",
    "\n",
    "def backtest(data, initial_balance=10000):\n",
    "    balance = initial_balance\n",
    "    position = 0\n",
    "    stop_loss = 0.95\n",
    "    take_profit = 2.0\n",
    "    entry_price = 0\n",
    "\n",
    "    for i, row in data.iterrows():\n",
    "        signal = row.Signal.iloc[0]\n",
    "        close_price = row.Close.iloc[0]\n",
    "        # print(type(row['Signal']), type(row['Close']))\n",
    "        if signal  == 1 and balance > 0:\n",
    "            position = balance / close_price\n",
    "            balance = 0\n",
    "            entry_price = close_price\n",
    "            logging.info(f\"BUY at {row['Close']} on {row.name.date()}\")\n",
    "        elif signal == -1 and position != 0:\n",
    "            balance = position * close_price\n",
    "            position = 0\n",
    "            logging.info(f\"SELL at {close_price} on {row.name.date()}\")\n",
    "            entry_price = 0\n",
    "\n",
    "        if position != 0:\n",
    "            if close_price <= entry_price * stop_loss:\n",
    "                balance = position * close_price\n",
    "                position = 0\n",
    "                logging.info(f\"STOP LOSS at {close_price} on {row.name.date()}\")\n",
    "            elif close_price >= entry_price * take_profit:\n",
    "                balance = position * close_price\n",
    "                position = 0\n",
    "                logging.info(f\"TAKE PROFIT at {close_price} on {row.name.date()}\")\n",
    "\n",
    "    if position != 0:\n",
    "        balance = position * data.iloc[-1]['Close']  # Close position at the last available price\n",
    "\n",
    "    return balance"
   ]
  },
  {
   "cell_type": "code",
   "execution_count": 128,
   "metadata": {},
   "outputs": [
    {
     "name": "stdout",
     "output_type": "stream",
     "text": [
      "Ticker\n",
      "EURJPY=X    9799.894762\n",
      "Name: 2024-11-29 00:00:00, dtype: object\n"
     ]
    }
   ],
   "source": [
    "logging.basicConfig(filename='trading_bot.log', level=logging.INFO, format='%(asctime)s - %(levelname)s - %(message)s')\n",
    "\n",
    "final_balance = backtest(data)\n",
    "print(final_balance)"
   ]
  },
  {
   "cell_type": "code",
   "execution_count": null,
   "metadata": {},
   "outputs": [],
   "source": []
  }
 ],
 "metadata": {
  "kernelspec": {
   "display_name": "rapp",
   "language": "python",
   "name": "python3"
  },
  "language_info": {
   "codemirror_mode": {
    "name": "ipython",
    "version": 3
   },
   "file_extension": ".py",
   "mimetype": "text/x-python",
   "name": "python",
   "nbconvert_exporter": "python",
   "pygments_lexer": "ipython3",
   "version": "3.13.0"
  }
 },
 "nbformat": 4,
 "nbformat_minor": 2
}
